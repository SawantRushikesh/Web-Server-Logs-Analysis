{
 "cells": [
  {
   "cell_type": "code",
   "execution_count": 1,
   "id": "0622db1b-46ef-4bf5-816f-4f61694070dc",
   "metadata": {},
   "outputs": [
    {
     "name": "stdout",
     "output_type": "stream",
     "text": [
      "Dataset downloaded successfully.\n"
     ]
    }
   ],
   "source": [
    "import pandas as pd\n",
    "import numpy as np\n",
    "import gzip\n",
    "import urllib.request\n",
    "from datetime import datetime\n",
    "import re\n",
    "\n",
    "# Downloading the Calgary HTTP dataset\n",
    "url = \"ftp://ita.ee.lbl.gov/traces/calgary_access_log.gz\"\n",
    "filename = \"calgary_access_log.gz\"\n",
    "\n",
    "# Download the file only if it's not already present locally\n",
    "try:\n",
    "    urllib.request.urlretrieve(url, filename)\n",
    "    print(\"Dataset downloaded successfully.\")\n",
    "except Exception as e:\n",
    "    print(f\"Error downloading the file: {e}\")\n"
   ]
  },
  {
   "cell_type": "code",
   "execution_count": 2,
   "id": "391b971a-dbd5-46cd-8456-600bd171820e",
   "metadata": {},
   "outputs": [
    {
     "name": "stdout",
     "output_type": "stream",
     "text": [
      "Total lines loaded: 726739\n"
     ]
    }
   ],
   "source": [
    "# Reading the compressed .gz file and storing log entries in a list\n",
    "log_entries = []\n",
    "\n",
    "try:\n",
    "    with gzip.open(filename, 'rt', errors='ignore') as f:\n",
    "        for line in f:\n",
    "            log_entries.append(line.strip())\n",
    "    print(f\"Total lines loaded: {len(log_entries)}\")\n",
    "except Exception as e:\n",
    "    print(f\"Error reading the compressed file: {e}\")\n"
   ]
  },
  {
   "cell_type": "code",
   "execution_count": 3,
   "id": "c7665943-412f-44cf-b735-155bb43b2c5f",
   "metadata": {},
   "outputs": [],
   "source": [
    "# Defining a function to parse a single log line\n",
    "def parse_log_line(line):\n",
    "    pattern = r'(\\S+) (\\S+) (\\S+) \\[([^\\]]+)\\] \"(.*?)\" (\\d{3}) (\\S+)'\n",
    "    match = re.match(pattern, line)\n",
    "    \n",
    "    if not match:\n",
    "        return None  # Malformed line\n",
    "\n",
    "    remotehost, rfc931, authuser, date_str, request, status, bytes_sent = match.groups()\n",
    "\n",
    "    # Convert timestamp to datetime object\n",
    "    try:\n",
    "        timestamp = datetime.strptime(date_str, \"%d/%b/%Y:%H:%M:%S %z\")\n",
    "    except:\n",
    "        return None\n",
    "\n",
    "    # Parse request line into method, filename, and protocol\n",
    "    try:\n",
    "        method, filename, protocol = request.split()\n",
    "    except:\n",
    "        method, filename, protocol = None, None, None\n",
    "\n",
    "    # Convert bytes to int or set to 0 if \"-\"\n",
    "    bytes_sent = int(bytes_sent) if bytes_sent.isdigit() else 0\n",
    "\n",
    "    return {\n",
    "        'remotehost': remotehost,\n",
    "        'rfc931': rfc931,\n",
    "        'authuser': authuser,\n",
    "        'timestamp': timestamp,\n",
    "        'method': method,\n",
    "        'filename': filename,\n",
    "        'protocol': protocol,\n",
    "        'status': int(status),\n",
    "        'bytes': bytes_sent\n",
    "    }\n"
   ]
  },
  {
   "cell_type": "code",
   "execution_count": 4,
   "id": "fcedab67-ca7c-4071-8a4c-760522965b1a",
   "metadata": {},
   "outputs": [
    {
     "name": "stdout",
     "output_type": "stream",
     "text": [
      "Parsed log entries: 724910\n"
     ]
    },
    {
     "data": {
      "text/html": [
       "<div>\n",
       "<style scoped>\n",
       "    .dataframe tbody tr th:only-of-type {\n",
       "        vertical-align: middle;\n",
       "    }\n",
       "\n",
       "    .dataframe tbody tr th {\n",
       "        vertical-align: top;\n",
       "    }\n",
       "\n",
       "    .dataframe thead th {\n",
       "        text-align: right;\n",
       "    }\n",
       "</style>\n",
       "<table border=\"1\" class=\"dataframe\">\n",
       "  <thead>\n",
       "    <tr style=\"text-align: right;\">\n",
       "      <th></th>\n",
       "      <th>remotehost</th>\n",
       "      <th>rfc931</th>\n",
       "      <th>authuser</th>\n",
       "      <th>timestamp</th>\n",
       "      <th>method</th>\n",
       "      <th>filename</th>\n",
       "      <th>protocol</th>\n",
       "      <th>status</th>\n",
       "      <th>bytes</th>\n",
       "    </tr>\n",
       "  </thead>\n",
       "  <tbody>\n",
       "    <tr>\n",
       "      <th>0</th>\n",
       "      <td>local</td>\n",
       "      <td>-</td>\n",
       "      <td>-</td>\n",
       "      <td>1994-10-24 13:41:41-06:00</td>\n",
       "      <td>GET</td>\n",
       "      <td>index.html</td>\n",
       "      <td>HTTP/1.0</td>\n",
       "      <td>200</td>\n",
       "      <td>150</td>\n",
       "    </tr>\n",
       "    <tr>\n",
       "      <th>1</th>\n",
       "      <td>local</td>\n",
       "      <td>-</td>\n",
       "      <td>-</td>\n",
       "      <td>1994-10-24 13:41:41-06:00</td>\n",
       "      <td>GET</td>\n",
       "      <td>1.gif</td>\n",
       "      <td>HTTP/1.0</td>\n",
       "      <td>200</td>\n",
       "      <td>1210</td>\n",
       "    </tr>\n",
       "    <tr>\n",
       "      <th>2</th>\n",
       "      <td>local</td>\n",
       "      <td>-</td>\n",
       "      <td>-</td>\n",
       "      <td>1994-10-24 13:43:13-06:00</td>\n",
       "      <td>GET</td>\n",
       "      <td>index.html</td>\n",
       "      <td>HTTP/1.0</td>\n",
       "      <td>200</td>\n",
       "      <td>3185</td>\n",
       "    </tr>\n",
       "    <tr>\n",
       "      <th>3</th>\n",
       "      <td>local</td>\n",
       "      <td>-</td>\n",
       "      <td>-</td>\n",
       "      <td>1994-10-24 13:43:14-06:00</td>\n",
       "      <td>GET</td>\n",
       "      <td>2.gif</td>\n",
       "      <td>HTTP/1.0</td>\n",
       "      <td>200</td>\n",
       "      <td>2555</td>\n",
       "    </tr>\n",
       "    <tr>\n",
       "      <th>4</th>\n",
       "      <td>local</td>\n",
       "      <td>-</td>\n",
       "      <td>-</td>\n",
       "      <td>1994-10-24 13:43:15-06:00</td>\n",
       "      <td>GET</td>\n",
       "      <td>3.gif</td>\n",
       "      <td>HTTP/1.0</td>\n",
       "      <td>200</td>\n",
       "      <td>36403</td>\n",
       "    </tr>\n",
       "  </tbody>\n",
       "</table>\n",
       "</div>"
      ],
      "text/plain": [
       "  remotehost rfc931 authuser                  timestamp method    filename  \\\n",
       "0      local      -        -  1994-10-24 13:41:41-06:00    GET  index.html   \n",
       "1      local      -        -  1994-10-24 13:41:41-06:00    GET       1.gif   \n",
       "2      local      -        -  1994-10-24 13:43:13-06:00    GET  index.html   \n",
       "3      local      -        -  1994-10-24 13:43:14-06:00    GET       2.gif   \n",
       "4      local      -        -  1994-10-24 13:43:15-06:00    GET       3.gif   \n",
       "\n",
       "   protocol  status  bytes  \n",
       "0  HTTP/1.0     200    150  \n",
       "1  HTTP/1.0     200   1210  \n",
       "2  HTTP/1.0     200   3185  \n",
       "3  HTTP/1.0     200   2555  \n",
       "4  HTTP/1.0     200  36403  "
      ]
     },
     "execution_count": 4,
     "metadata": {},
     "output_type": "execute_result"
    }
   ],
   "source": [
    "# Applying the parser to all log lines\n",
    "parsed_logs = [parse_log_line(line) for line in log_entries]\n",
    "parsed_logs = [entry for entry in parsed_logs if entry is not None]\n",
    "\n",
    "# Creating a DataFrame from parsed log entries\n",
    "df = pd.DataFrame(parsed_logs)\n",
    "print(\"Parsed log entries:\", len(df))\n",
    "df.head()\n"
   ]
  },
  {
   "cell_type": "code",
   "execution_count": 5,
   "id": "2cdcd525-96f5-41ff-aac1-4c16a61e906e",
   "metadata": {},
   "outputs": [
    {
     "name": "stdout",
     "output_type": "stream",
     "text": [
      "Sample file extensions: ['html' 'gif' 'xbm' 'aiff' 'rgb' 'ps' 'none' 'txt' 'tiff' 'mpeg']\n"
     ]
    },
    {
     "data": {
      "text/html": [
       "<div>\n",
       "<style scoped>\n",
       "    .dataframe tbody tr th:only-of-type {\n",
       "        vertical-align: middle;\n",
       "    }\n",
       "\n",
       "    .dataframe tbody tr th {\n",
       "        vertical-align: top;\n",
       "    }\n",
       "\n",
       "    .dataframe thead th {\n",
       "        text-align: right;\n",
       "    }\n",
       "</style>\n",
       "<table border=\"1\" class=\"dataframe\">\n",
       "  <thead>\n",
       "    <tr style=\"text-align: right;\">\n",
       "      <th></th>\n",
       "      <th>remotehost</th>\n",
       "      <th>rfc931</th>\n",
       "      <th>authuser</th>\n",
       "      <th>timestamp</th>\n",
       "      <th>method</th>\n",
       "      <th>filename</th>\n",
       "      <th>protocol</th>\n",
       "      <th>status</th>\n",
       "      <th>bytes</th>\n",
       "      <th>file_extension</th>\n",
       "    </tr>\n",
       "  </thead>\n",
       "  <tbody>\n",
       "    <tr>\n",
       "      <th>0</th>\n",
       "      <td>local</td>\n",
       "      <td>-</td>\n",
       "      <td>-</td>\n",
       "      <td>1994-10-24 13:41:41-06:00</td>\n",
       "      <td>GET</td>\n",
       "      <td>index.html</td>\n",
       "      <td>HTTP/1.0</td>\n",
       "      <td>200</td>\n",
       "      <td>150</td>\n",
       "      <td>html</td>\n",
       "    </tr>\n",
       "    <tr>\n",
       "      <th>1</th>\n",
       "      <td>local</td>\n",
       "      <td>-</td>\n",
       "      <td>-</td>\n",
       "      <td>1994-10-24 13:41:41-06:00</td>\n",
       "      <td>GET</td>\n",
       "      <td>1.gif</td>\n",
       "      <td>HTTP/1.0</td>\n",
       "      <td>200</td>\n",
       "      <td>1210</td>\n",
       "      <td>gif</td>\n",
       "    </tr>\n",
       "    <tr>\n",
       "      <th>2</th>\n",
       "      <td>local</td>\n",
       "      <td>-</td>\n",
       "      <td>-</td>\n",
       "      <td>1994-10-24 13:43:13-06:00</td>\n",
       "      <td>GET</td>\n",
       "      <td>index.html</td>\n",
       "      <td>HTTP/1.0</td>\n",
       "      <td>200</td>\n",
       "      <td>3185</td>\n",
       "      <td>html</td>\n",
       "    </tr>\n",
       "    <tr>\n",
       "      <th>3</th>\n",
       "      <td>local</td>\n",
       "      <td>-</td>\n",
       "      <td>-</td>\n",
       "      <td>1994-10-24 13:43:14-06:00</td>\n",
       "      <td>GET</td>\n",
       "      <td>2.gif</td>\n",
       "      <td>HTTP/1.0</td>\n",
       "      <td>200</td>\n",
       "      <td>2555</td>\n",
       "      <td>gif</td>\n",
       "    </tr>\n",
       "    <tr>\n",
       "      <th>4</th>\n",
       "      <td>local</td>\n",
       "      <td>-</td>\n",
       "      <td>-</td>\n",
       "      <td>1994-10-24 13:43:15-06:00</td>\n",
       "      <td>GET</td>\n",
       "      <td>3.gif</td>\n",
       "      <td>HTTP/1.0</td>\n",
       "      <td>200</td>\n",
       "      <td>36403</td>\n",
       "      <td>gif</td>\n",
       "    </tr>\n",
       "  </tbody>\n",
       "</table>\n",
       "</div>"
      ],
      "text/plain": [
       "  remotehost rfc931 authuser                  timestamp method    filename  \\\n",
       "0      local      -        -  1994-10-24 13:41:41-06:00    GET  index.html   \n",
       "1      local      -        -  1994-10-24 13:41:41-06:00    GET       1.gif   \n",
       "2      local      -        -  1994-10-24 13:43:13-06:00    GET  index.html   \n",
       "3      local      -        -  1994-10-24 13:43:14-06:00    GET       2.gif   \n",
       "4      local      -        -  1994-10-24 13:43:15-06:00    GET       3.gif   \n",
       "\n",
       "   protocol  status  bytes file_extension  \n",
       "0  HTTP/1.0     200    150           html  \n",
       "1  HTTP/1.0     200   1210            gif  \n",
       "2  HTTP/1.0     200   3185           html  \n",
       "3  HTTP/1.0     200   2555            gif  \n",
       "4  HTTP/1.0     200  36403            gif  "
      ]
     },
     "execution_count": 5,
     "metadata": {},
     "output_type": "execute_result"
    }
   ],
   "source": [
    "# Function to extract file extension\n",
    "def get_extension(filename):\n",
    "    if filename and '.' in filename:\n",
    "        return filename.split('.')[-1].lower()\n",
    "    return 'none'  # for cases like '/' or empty\n",
    "\n",
    "# Apply to dataframe\n",
    "df['file_extension'] = df['filename'].apply(get_extension)\n",
    "\n",
    "# Show unique extensions as a sanity check\n",
    "print(\"Sample file extensions:\", df['file_extension'].unique()[:10])\n",
    "df.head()\n"
   ]
  },
  {
   "cell_type": "code",
   "execution_count": 6,
   "id": "a2351841-73af-48c0-9659-82399f491354",
   "metadata": {},
   "outputs": [],
   "source": [
    "##Questions And Answers"
   ]
  },
  {
   "cell_type": "code",
   "execution_count": 7,
   "id": "71a168fb-73d0-4f51-aa62-b4bb4dd8781a",
   "metadata": {},
   "outputs": [
    {
     "name": "stdout",
     "output_type": "stream",
     "text": [
      "Total log records: 724910\n"
     ]
    }
   ],
   "source": [
    "# Q1: Total number of log records\n",
    "total_log_records = len(df)\n",
    "print(\"Total log records:\", total_log_records)\n"
   ]
  },
  {
   "cell_type": "code",
   "execution_count": 8,
   "id": "fd85e27d-4925-4521-820a-730407236310",
   "metadata": {},
   "outputs": [
    {
     "name": "stdout",
     "output_type": "stream",
     "text": [
      "Unique hosts: 2\n"
     ]
    }
   ],
   "source": [
    "# Q2: Number of unique hosts (remotehost)\n",
    "unique_hosts = df['remotehost'].nunique()\n",
    "print(\"Unique hosts:\", unique_hosts)\n"
   ]
  },
  {
   "cell_type": "code",
   "execution_count": 9,
   "id": "b4dd492a-c1c3-48ed-a336-bc21b0285bbb",
   "metadata": {},
   "outputs": [
    {
     "name": "stdout",
     "output_type": "stream",
     "text": [
      "0   1994-10-24 13:41:41-06:00\n",
      "1   1994-10-24 13:41:41-06:00\n",
      "2   1994-10-24 13:43:13-06:00\n",
      "3   1994-10-24 13:43:14-06:00\n",
      "4   1994-10-24 13:43:15-06:00\n",
      "Name: timestamp, dtype: datetime64[ns, UTC-06:00]\n"
     ]
    }
   ],
   "source": [
    "# Convert 'timestamp' column to datetime type\n",
    "df['timestamp'] = pd.to_datetime(df['timestamp'], errors='coerce')\n",
    "\n",
    "# Check if conversion worked\n",
    "print(df['timestamp'].head())\n"
   ]
  },
  {
   "cell_type": "code",
   "execution_count": 10,
   "id": "1939e34d-2177-4aba-89f4-1487ce81bdc9",
   "metadata": {},
   "outputs": [
    {
     "name": "stdout",
     "output_type": "stream",
     "text": [
      "01-Aug-1995: 669\n",
      "01-Jul-1995: 387\n",
      "01-Jun-1995: 590\n",
      "01-May-1995: 467\n",
      "01-Oct-1995: 552\n"
     ]
    }
   ],
   "source": [
    "#Q3 Convert timestamp to date string in 'dd-MMM-yyyy' format\n",
    "df['date_str'] = df['timestamp'].dt.strftime('%d-%b-%Y')\n",
    "\n",
    "# Group by date and count unique filenames\n",
    "unique_files_per_date = df.groupby('date_str')['filename'].nunique().to_dict()\n",
    "\n",
    "# Sample output\n",
    "for date, count in list(unique_files_per_date.items())[:5]:\n",
    "    print(f\"{date}: {count}\")\n"
   ]
  },
  {
   "cell_type": "code",
   "execution_count": 11,
   "id": "5564e642-dfcd-4c09-a61f-336dc0cdb32c",
   "metadata": {},
   "outputs": [
    {
     "name": "stdout",
     "output_type": "stream",
     "text": [
      "Number of 404 responses: 23586\n"
     ]
    }
   ],
   "source": [
    "\n",
    "# Q4: Count how many HTTP requests resulted in a 404 error\n",
    "count_404 = df[df['status'] == 404].shape[0]\n",
    "print(\"Number of 404 responses:\", count_404)\n"
   ]
  },
  {
   "cell_type": "code",
   "execution_count": 12,
   "id": "43659692-c567-4f7e-b676-274a164cb18e",
   "metadata": {},
   "outputs": [
    {
     "name": "stdout",
     "output_type": "stream",
     "text": [
      "      filename  count\n",
      "0   index.html   4694\n",
      "1    4115.html    902\n",
      "2    1611.html    649\n",
      "3     5698.xbm    585\n",
      "4      710.txt    408\n",
      "5    2002.html    258\n",
      "6     2177.gif    193\n",
      "7     10695.ps    161\n",
      "8    6555.html    153\n",
      "9      487.gif    152\n",
      "10    151.html    149\n",
      "11     40.html    148\n",
      "12    3414.gif    148\n",
      "13     488.gif    148\n",
      "14    9678.gif    142\n"
     ]
    }
   ],
   "source": [
    "#q5 Filter 404 errors and count filenames\n",
    "top_404_files = (\n",
    "    df[df['status'] == 404]\n",
    "    .groupby('filename')\n",
    "    .size()\n",
    "    .sort_values(ascending=False)\n",
    "    .head(15)\n",
    "    .reset_index(name='count')\n",
    ")\n",
    "\n",
    "print(top_404_files)\n"
   ]
  },
  {
   "cell_type": "code",
   "execution_count": 13,
   "id": "740ea7b8-d342-4448-9e72-e31f40b6c3d9",
   "metadata": {},
   "outputs": [
    {
     "name": "stdout",
     "output_type": "stream",
     "text": [
      "   file_extension  count\n",
      "0            html  12145\n",
      "1             gif   7337\n",
      "2             xbm    824\n",
      "3              ps    754\n",
      "4             jpg    531\n",
      "5             txt    508\n",
      "6            none    141\n",
      "7             htm    108\n",
      "8             cgi     77\n",
      "9            gif\"     47\n",
      "10            com     45\n",
      "11              z     41\n",
      "12            dvi     40\n",
      "13           com/     37\n",
      "14             ca     36\n"
     ]
    }
   ],
   "source": [
    "#q6 Top 15 file extensions causing 404 errors\n",
    "top_404_exts = (\n",
    "    df[df['status'] == 404]\n",
    "    .groupby('file_extension')\n",
    "    .size()\n",
    "    .sort_values(ascending=False)\n",
    "    .head(15)\n",
    "    .reset_index(name='count')\n",
    ")\n",
    "\n",
    "print(top_404_exts)\n"
   ]
  },
  {
   "cell_type": "code",
   "execution_count": 14,
   "id": "f186af21-1bd8-4ca1-b7f7-fc3a8f31854c",
   "metadata": {},
   "outputs": [
    {
     "name": "stdout",
     "output_type": "stream",
     "text": [
      "{'01-Jul-1995': 11349799, '02-Jul-1995': 8656918, '03-Jul-1995': 13596612, '04-Jul-1995': 26573988, '05-Jul-1995': 19541225, '06-Jul-1995': 19755015, '07-Jul-1995': 9427822, '08-Jul-1995': 5403491, '09-Jul-1995': 4660556, '10-Jul-1995': 14917754, '11-Jul-1995': 22507207, '12-Jul-1995': 17367065, '13-Jul-1995': 15989234, '14-Jul-1995': 19186430, '15-Jul-1995': 15773233, '16-Jul-1995': 9016378, '17-Jul-1995': 19601338, '18-Jul-1995': 17099761, '19-Jul-1995': 17851725, '20-Jul-1995': 20752623, '21-Jul-1995': 25491617, '22-Jul-1995': 8136259, '23-Jul-1995': 9593870, '24-Jul-1995': 22308265, '25-Jul-1995': 24561635, '26-Jul-1995': 24995540, '27-Jul-1995': 25969995, '28-Jul-1995': 36460693, '29-Jul-1995': 11700624, '30-Jul-1995': 23189598, '31-Jul-1995': 30730715}\n"
     ]
    }
   ],
   "source": [
    "#q7 Filter for July 1995 dates\n",
    "july_mask = df['timestamp'].dt.strftime('%b-%Y') == 'Jul-1995'\n",
    "\n",
    "# Remove rows where bytes is '-' or missing, convert to int\n",
    "df_july = df[july_mask].copy()\n",
    "df_july = df_july[df_july['bytes'].apply(lambda x: str(x).isdigit())]\n",
    "df_july['bytes'] = df_july['bytes'].astype(int)\n",
    "\n",
    "# Group by date and sum bytes\n",
    "bandwidth_per_day = df_july.groupby(df_july['timestamp'].dt.strftime('%d-%b-%Y'))['bytes'].sum().to_dict()\n",
    "\n",
    "print(bandwidth_per_day)\n"
   ]
  },
  {
   "cell_type": "code",
   "execution_count": 15,
   "id": "fd3762f3-393c-4e45-9043-0358440b64b0",
   "metadata": {},
   "outputs": [
    {
     "name": "stdout",
     "output_type": "stream",
     "text": [
      "{0.0: 11598, 1.0: 9913, 2.0: 9403, 3.0: 8147, 4.0: 7832, 5.0: 8283, 6.0: 9798, 7.0: 11930, 8.0: 17351, 9.0: 21683, 10.0: 25717, 11.0: 28665, 12.0: 26845, 13.0: 30089, 14.0: 29792, 15.0: 28149, 16.0: 28287, 17.0: 23332, 18.0: 17862, 19.0: 17325, 20.0: 17492, 21.0: 15969, 22.0: 14588, 23.0: 13613}\n"
     ]
    }
   ],
   "source": [
    "#q8 Extract hour from timestamp\n",
    "df['hour'] = df['timestamp'].dt.hour\n",
    "\n",
    "# Count requests per hour\n",
    "hourly_requests = df['hour'].value_counts().sort_index().to_dict()\n",
    "\n",
    "print(hourly_requests)\n"
   ]
  },
  {
   "cell_type": "code",
   "execution_count": 16,
   "id": "9e091b1b-e281-44c9-b4d3-126e79c73eeb",
   "metadata": {},
   "outputs": [
    {
     "name": "stdout",
     "output_type": "stream",
     "text": [
      "[('index.html', 139528), ('3.gif', 24006), ('2.gif', 23595), ('4.gif', 8018), ('244.gif', 5148), ('5.html', 5010), ('4097.gif', 4874), ('8870.jpg', 4492), ('6733.gif', 4278), ('8472.gif', 3843)]\n"
     ]
    }
   ],
   "source": [
    "# q9 Top 10 most requested filenames\n",
    "top_10_filenames = df['filename'].value_counts().head(10)\n",
    "top_10_list = list(top_10_filenames.items())\n",
    "\n",
    "print(top_10_list)\n"
   ]
  },
  {
   "cell_type": "code",
   "execution_count": 17,
   "id": "3b9251ed-645e-458b-b779-2d5a80c77121",
   "metadata": {},
   "outputs": [
    {
     "name": "stdout",
     "output_type": "stream",
     "text": [
      "{200: 568348, 304: 97792, 302: 30295, 404: 23586, 403: 4743, 401: 46, 501: 43, 500: 42, 400: 15}\n"
     ]
    }
   ],
   "source": [
    "#q10 HTTP response code distribution\n",
    "status_code_counts = df['status'].value_counts().to_dict()\n",
    "\n",
    "print(status_code_counts)\n"
   ]
  },
  {
   "cell_type": "code",
   "execution_count": null,
   "id": "1d04ce7e-fcb2-45f3-9fd2-3b6c385acea0",
   "metadata": {},
   "outputs": [],
   "source": []
  },
  {
   "cell_type": "code",
   "execution_count": null,
   "id": "25375ae3-b8b9-4898-910b-8b9a2fb87db7",
   "metadata": {},
   "outputs": [],
   "source": []
  },
  {
   "cell_type": "code",
   "execution_count": null,
   "id": "6950fd25-5306-436f-8cb5-fd49cd3f2952",
   "metadata": {},
   "outputs": [],
   "source": []
  }
 ],
 "metadata": {
  "kernelspec": {
   "display_name": "Python 3 (ipykernel)",
   "language": "python",
   "name": "python3"
  },
  "language_info": {
   "codemirror_mode": {
    "name": "ipython",
    "version": 3
   },
   "file_extension": ".py",
   "mimetype": "text/x-python",
   "name": "python",
   "nbconvert_exporter": "python",
   "pygments_lexer": "ipython3",
   "version": "3.12.4"
  }
 },
 "nbformat": 4,
 "nbformat_minor": 5
}
